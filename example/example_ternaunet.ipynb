{
 "cells": [
  {
   "cell_type": "markdown",
   "metadata": {},
   "source": [
    "# Example of TernausNet module"
   ]
  },
  {
   "cell_type": "code",
   "execution_count": 1,
   "metadata": {},
   "outputs": [],
   "source": [
    "import os\n",
    "import time\n",
    "import numpy as np\n",
    "import renom as rm\n",
    "from tqdm import tqdm\n",
    "import matplotlib.pyplot as plt\n",
    "\n",
    "from renom_img.api.segmentation.ternausnet import TernausNet\n",
    "from renom_img.api.utility.distributor.distributor import ImageDistributor\n",
    "from renom_img.api.utility.augmentation import Augmentation\n",
    "from renom_img.api.utility.augmentation.process import *\n",
    "from renom_img.api.utility.misc.display import draw_segment\n",
    "from renom_img.api.utility.evaluate import EvaluatorSegmentation\n",
    "\n",
    "from renom.cuda import set_cuda_active\n",
    "from PIL import Image\n",
    "%matplotlib inline"
   ]
  },
  {
   "cell_type": "code",
   "execution_count": null,
   "metadata": {},
   "outputs": [],
   "source": [
    "set_cuda_active(True)"
   ]
  },
  {
   "cell_type": "code",
   "execution_count": null,
   "metadata": {},
   "outputs": [],
   "source": [
    "class_map = ['background', 'aeroplane', 'bicycle', 'bird', 'boat', 'bottle', \n",
    "             'bus', 'car', 'cat', 'chair', 'cow', 'diningtable',\n",
    "             'dog', 'horse', 'motorbike', 'person', 'potted plant', \n",
    "             'sheep', 'sofa', 'train', 'tv/monitor', 'void']\n",
    "\n",
    "prefix_path = '/mnt/data1/jun/dataset/VOCdevkit/VOC2012/'"
   ]
  },
  {
   "cell_type": "code",
   "execution_count": null,
   "metadata": {},
   "outputs": [],
   "source": [
    "train_image_path_list = []\n",
    "train_annotation_path_list = []\n",
    "\n",
    "with open(os.path.join(prefix_path, 'ImageSets', 'Segmentation', 'train.txt')) as f:\n",
    "    txt = f.readlines()\n",
    "    txt = [line.split('\\n')[0] for line in txt]\n",
    "    for i in range(len(txt)):\n",
    "        train_image_path_list.append(os.path.join(prefix_path, 'JPEGImages', txt[i]+'.jpg'))\n",
    "        train_annotation_path_list.append(os.path.join(prefix_path, 'SegmentationClass', txt[i]+'.png'))\n",
    "                                          \n",
    "valid_image_path_list = []\n",
    "valid_annotation_path_list = []\n",
    "\n",
    "with open(os.path.join(prefix_path, 'ImageSets', 'Segmentation', 'val.txt')) as f:\n",
    "    txt = f.readlines()\n",
    "    txt = [line.split('\\n')[0] for line in txt]\n",
    "    for i in range(len(txt)):\n",
    "        valid_image_path_list.append(os.path.join(prefix_path, 'JPEGImages', txt[i]+'.jpg'))\n",
    "        valid_annotation_path_list.append(os.path.join(prefix_path, 'SegmentationClass', txt[i]+'.png'))\n",
    "        \n",
    "print(\"Dataset size\")\n",
    "print(\"  Train:{}\".format(len(train_image_path_list)))\n",
    "print(\"  Valid:{}\\n\".format(len(valid_image_path_list)))\n",
    "        "
   ]
  },
  {
   "cell_type": "code",
   "execution_count": null,
   "metadata": {},
   "outputs": [],
   "source": [
    "annot = np.array(Image.open(train_annotation_path_list[0]))\n",
    "draw_segment(train_image_path_list[0], annot, show_background=True)"
   ]
  },
  {
   "cell_type": "code",
   "execution_count": null,
   "metadata": {},
   "outputs": [],
   "source": [
    "model = TernausNet(class_map, imsize=(124, 124), train_whole_network=True)"
   ]
  },
  {
   "cell_type": "code",
   "execution_count": null,
   "metadata": {},
   "outputs": [],
   "source": [
    "augmentation = Augmentation([\n",
    "                Flip(),\n",
    "                WhiteNoise(),\n",
    "                ContrastNorm([0.5, 1.0])\n",
    "            ])"
   ]
  },
  {
   "cell_type": "code",
   "execution_count": null,
   "metadata": {},
   "outputs": [],
   "source": [
    "def callback(epoch, *args):\n",
    "    image_id = np.random.randint(len(train_image_path_list))\n",
    "    fig = plt.figure()\n",
    "    fig.add_subplot(1, 2, 1)\n",
    "    plt.imshow(draw_segment(train_image_path_list[image_id], model.predict(train_image_path_list[image_id])))\n",
    "    fig.add_subplot(1, 2, 2)\n",
    "    annot = np.array(Image.open(train_annotation_path_list[image_id]))\n",
    "    plt.imshow(draw_segment(train_image_path_list[image_id], annot))\n",
    "    plt.show()\n",
    "    model.save('/mnt/data1/jun/checkpoints/ternaus/model_{}.hdf5'.format(epoch))\n",
    "\n",
    "model.fit(train_img_path_list=train_image_path_list, train_annotation_list=train_annotation_path_list,\n",
    "          valid_img_path_list=valid_image_path_list, valid_annotation_list=valid_annotation_path_list, \n",
    "          batch_size=32, callback_end_epoch=callback, augmentation=augmentation, epoch=200, class_weight=False)"
   ]
  },
  {
   "cell_type": "code",
   "execution_count": null,
   "metadata": {},
   "outputs": [],
   "source": [
    "results = model.predict(valid_image_path_list)"
   ]
  },
  {
   "cell_type": "code",
   "execution_count": null,
   "metadata": {},
   "outputs": [],
   "source": [
    "imsize = (224, 224)\n",
    "targets = []\n",
    "for path in valid_annotation_path_list:\n",
    "    annot = Image.open(path)\n",
    "    annot.load()\n",
    "    annot = np.array(annot.resize(imsize))\n",
    "    for i in range(annot.shape[0]):\n",
    "        for j in range(annot.shape[1]):\n",
    "            if annot[i, j] >= len(class_map):\n",
    "                annot[i, j] = 0\n",
    "    targets.append(annot)\n",
    "targets = np.array(targets)            "
   ]
  },
  {
   "cell_type": "code",
   "execution_count": null,
   "metadata": {},
   "outputs": [],
   "source": [
    "evaluator = EvaluatorSegmentation(results, targets)"
   ]
  },
  {
   "cell_type": "code",
   "execution_count": null,
   "metadata": {},
   "outputs": [],
   "source": [
    "print(evaluator.report())"
   ]
  }
 ],
 "metadata": {
  "kernelspec": {
   "display_name": "Python 3",
   "language": "python",
   "name": "python3"
  },
  "language_info": {
   "codemirror_mode": {
    "name": "ipython",
    "version": 3
   },
   "file_extension": ".py",
   "mimetype": "text/x-python",
   "name": "python",
   "nbconvert_exporter": "python",
   "pygments_lexer": "ipython3",
   "version": "3.5.2"
  }
 },
 "nbformat": 4,
 "nbformat_minor": 2
}
