{
 "cells": [
  {
   "cell_type": "markdown",
   "metadata": {},
   "source": [
    "# Example of TernausNet module"
   ]
  },
  {
   "cell_type": "code",
   "execution_count": 1,
   "metadata": {},
   "outputs": [],
   "source": [
    "import os\n",
    "import numpy as np\n",
    "import renom as rm\n",
    "import matplotlib.pyplot as plt\n",
    "from renom.cuda import set_cuda_active\n",
    "\n",
    "from renom_img.api.segmentation.ternausnet import TernausNet\n",
    "from renom_img.api.utility.misc.display import draw_segment\n",
    "\n",
    "set_cuda_active(True)"
   ]
  },
  {
   "cell_type": "code",
   "execution_count": null,
   "metadata": {},
   "outputs": [],
   "source": [
    "if not os.path.exists(\"VOCdevkit/VOC2007\"):\n",
    "    !wget http://host.robots.ox.ac.uk/pascal/VOC/voc2007/VOCtrainval_06-Nov-2007.tar\n",
    "    !tar xfv VOCtrainval_06-Nov-2007.tar\n",
    "    \n",
    "if not os.path.exists(\"VOCdevkit/VOC2012\"):\n",
    "    !wget http://host.robots.ox.ac.uk/pascal/VOC/voc2012/VOCtrainval_11-May-2012.tar\n",
    "    !tar xfv VOCtrainval_11-May-2012.tar"
   ]
  },
  {
   "cell_type": "code",
   "execution_count": null,
   "metadata": {},
   "outputs": [],
   "source": [
    "image_voc_2007 = \"VOCdevkit/VOC2007/JPEGImages/\"\n",
    "label_voc_2007 = \"VOCdevkit/VOC2007/SegmentationClass/\"\n",
    "image_voc_2012 = \"VOCdevkit/VOC2012/JPEGImages/\"\n",
    "label_voc_2012 = \"VOCdevkit/VOC2012/SegmentationClass/\"\n",
    "\n",
    "train_voc_2007 = [line.strip() for line in open(\"VOCdevkit/VOC2007/ImageSets/Segmentation/train.txt\").readlines()]\n",
    "train_voc_2007 += [line.strip() for line in open(\"VOCdevkit/VOC2007/ImageSets/Segmentation/val.txt\").readlines()]\n",
    "train_voc_2012 = [line.strip() for line in open(\"VOCdevkit/VOC2012/ImageSets/Segmentation/train.txt\").readlines()]\n",
    "valid_voc_2012 = [line.strip() for line in open(\"VOCdevkit/VOC2012/ImageSets/Segmentation/val.txt\").readlines()]\n",
    "\n",
    "train_image_path_list = []\n",
    "train_label_path_list = []\n",
    "valid_image_path_list = []\n",
    "valid_label_path_list = []\n",
    "\n",
    "# Use training dataset of VOC2007, VOC2012 and validation dataset of 2007 as training data.\n",
    "for path in train_voc_2007:\n",
    "    train_image_path_list.append(os.path.join(image_voc_2007, path+'.jpg'))\n",
    "    train_label_path_list.append(os.path.join(label_voc_2007, path+'.png'))\n",
    "\n",
    "for path in train_voc_2012:\n",
    "    train_image_path_list.append(os.path.join(image_voc_2012, path+'.jpg'))\n",
    "    train_label_path_list.append(os.path.join(label_voc_2012, path+'.png'))\n",
    "\n",
    "# Use validation dataset of VOC2012 as validation data.\n",
    "for path in valid_voc_2012:\n",
    "    valid_image_path_list.append(os.path.join(image_voc_2012, path+'.jpg'))\n",
    "    valid_label_path_list.append(os.path.join(label_voc_2012, path+'.png'))\n",
    "\n",
    "class_map = [\n",
    "    \"aeroplane\", \n",
    "    \"bicycle\",\n",
    "    \"bird\",\n",
    "    \"boat\",\n",
    "    \"bottle\",\n",
    "    \"bus\",\n",
    "    \"car\",\n",
    "    \"cat\",\n",
    "    \"chair\",\n",
    "    \"cow\",\n",
    "    \"diningtable\",\n",
    "    \"dog\",\n",
    "    \"horse\",\n",
    "    \"motorbike\",\n",
    "    \"person\",\n",
    "    \"pottedplant\",\n",
    "    \"sheep\",\n",
    "    \"sofa\",\n",
    "    \"train\",\n",
    "    \"tvmonitor\",\n",
    "]"
   ]
  },
  {
   "cell_type": "code",
   "execution_count": null,
   "metadata": {},
   "outputs": [],
   "source": [
    "model = UNet(class_map, imsize=(136, 136), train_whole_network=True)"
   ]
  },
  {
   "cell_type": "code",
   "execution_count": null,
   "metadata": {},
   "outputs": [],
   "source": [
    "def callback(*args):\n",
    "    plt.imshow(draw_segment(train_image_path_list[0], model.predict(train_image_path_list[0])))\n",
    "    plt.show()\n",
    "\n",
    "model.fit(train_img_path_list=train_image_path_list, train_annotation_path_list=train_label_path_list,\n",
    "         valid_img_path_list=valid_image_path_list, valid_annotation_path_list=valid_label_path_list,\n",
    "          callback_end_epoch=callback\n",
    "         )"
   ]
  },
  {
   "cell_type": "code",
   "execution_count": null,
   "metadata": {},
   "outputs": [],
   "source": [
    "draw_segment(train_image_path_list[0], model.predict(train_image_path_list[0]))"
   ]
  },
  {
   "cell_type": "code",
   "execution_count": null,
   "metadata": {},
   "outputs": [],
   "source": []
  }
 ],
 "metadata": {
  "kernelspec": {
   "display_name": "Python 3",
   "language": "python",
   "name": "python3"
  },
  "language_info": {
   "codemirror_mode": {
    "name": "ipython",
    "version": 3
   },
   "file_extension": ".py",
   "mimetype": "text/x-python",
   "name": "python",
   "nbconvert_exporter": "python",
   "pygments_lexer": "ipython3",
   "version": "3.5.2"
  }
 },
 "nbformat": 4,
 "nbformat_minor": 2
}
