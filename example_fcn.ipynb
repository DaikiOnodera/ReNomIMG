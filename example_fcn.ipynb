{
 "cells": [
  {
   "cell_type": "code",
   "execution_count": 17,
   "metadata": {},
   "outputs": [
    {
     "ename": "ModuleNotFoundError",
     "evalue": "No module named 'renom_img.api.utility.evaluate.detection'",
     "output_type": "error",
     "traceback": [
      "\u001b[0;31m---------------------------------------------------------------------------\u001b[0m",
      "\u001b[0;31mModuleNotFoundError\u001b[0m                       Traceback (most recent call last)",
      "\u001b[0;32m<ipython-input-17-d191e64ab311>\u001b[0m in \u001b[0;36m<module>\u001b[0;34m()\u001b[0m\n\u001b[1;32m     11\u001b[0m \u001b[0;32mfrom\u001b[0m \u001b[0mrenom_img\u001b[0m\u001b[0;34m.\u001b[0m\u001b[0mapi\u001b[0m\u001b[0;34m.\u001b[0m\u001b[0mutility\u001b[0m\u001b[0;34m.\u001b[0m\u001b[0maugmentation\u001b[0m\u001b[0;34m.\u001b[0m\u001b[0mprocess\u001b[0m \u001b[0;32mimport\u001b[0m \u001b[0;34m*\u001b[0m\u001b[0;34m\u001b[0m\u001b[0m\n\u001b[1;32m     12\u001b[0m \u001b[0;32mfrom\u001b[0m \u001b[0mrenom_img\u001b[0m\u001b[0;34m.\u001b[0m\u001b[0mapi\u001b[0m\u001b[0;34m.\u001b[0m\u001b[0mutility\u001b[0m\u001b[0;34m.\u001b[0m\u001b[0mmisc\u001b[0m\u001b[0;34m.\u001b[0m\u001b[0mdisplay\u001b[0m \u001b[0;32mimport\u001b[0m \u001b[0mdraw_segment\u001b[0m\u001b[0;34m\u001b[0m\u001b[0m\n\u001b[0;32m---> 13\u001b[0;31m \u001b[0;32mfrom\u001b[0m \u001b[0mrenom_img\u001b[0m\u001b[0;34m.\u001b[0m\u001b[0mapi\u001b[0m\u001b[0;34m.\u001b[0m\u001b[0mutility\u001b[0m\u001b[0;34m.\u001b[0m\u001b[0mevaluate\u001b[0m \u001b[0;32mimport\u001b[0m \u001b[0mEvaluatorSegmentation\u001b[0m\u001b[0;34m\u001b[0m\u001b[0m\n\u001b[0m\u001b[1;32m     14\u001b[0m \u001b[0;34m\u001b[0m\u001b[0m\n\u001b[1;32m     15\u001b[0m \u001b[0;32mfrom\u001b[0m \u001b[0mrenom\u001b[0m\u001b[0;34m.\u001b[0m\u001b[0mcuda\u001b[0m \u001b[0;32mimport\u001b[0m \u001b[0mset_cuda_active\u001b[0m\u001b[0;34m\u001b[0m\u001b[0m\n",
      "\u001b[0;32m~/projects/ReNomIMG/renom_img/api/utility/evaluate/__init__.py\u001b[0m in \u001b[0;36m<module>\u001b[0;34m()\u001b[0m\n\u001b[1;32m      1\u001b[0m \u001b[0;32mimport\u001b[0m \u001b[0mnumpy\u001b[0m \u001b[0;32mas\u001b[0m \u001b[0mnp\u001b[0m\u001b[0;34m\u001b[0m\u001b[0m\n\u001b[0;32m----> 2\u001b[0;31m \u001b[0;32mfrom\u001b[0m \u001b[0;34m.\u001b[0m\u001b[0mdetection\u001b[0m \u001b[0;32mimport\u001b[0m \u001b[0mget_prec_and_rec\u001b[0m\u001b[0;34m,\u001b[0m \u001b[0mget_ap_and_map\u001b[0m\u001b[0;34m,\u001b[0m \u001b[0mget_mean_iou\u001b[0m\u001b[0;34m\u001b[0m\u001b[0m\n\u001b[0m\u001b[1;32m      3\u001b[0m \u001b[0;32mfrom\u001b[0m \u001b[0;34m.\u001b[0m\u001b[0mclassification\u001b[0m \u001b[0;32mimport\u001b[0m \u001b[0mprecision_score\u001b[0m\u001b[0;34m,\u001b[0m \u001b[0mrecall_score\u001b[0m\u001b[0;34m,\u001b[0m \u001b[0maccuracy_score\u001b[0m\u001b[0;34m\u001b[0m\u001b[0m\n\u001b[1;32m      4\u001b[0m \u001b[0;34m\u001b[0m\u001b[0m\n\u001b[1;32m      5\u001b[0m \u001b[0;34m\u001b[0m\u001b[0m\n",
      "\u001b[0;31mModuleNotFoundError\u001b[0m: No module named 'renom_img.api.utility.evaluate.detection'"
     ]
    }
   ],
   "source": [
    "import os\n",
    "import time\n",
    "import numpy as np\n",
    "import renom as rm\n",
    "from tqdm import tqdm\n",
    "import matplotlib.pyplot as plt\n",
    "\n",
    "from renom_img.api.segmentation.fcn import FCN8s, FCN16s\n",
    "from renom_img.api.utility.distributor.distributor import ImageDistributor\n",
    "from renom_img.api.utility.augmentation import Augmentation\n",
    "from renom_img.api.utility.augmentation.process import *\n",
    "from renom_img.api.utility.misc.display import draw_segment\n",
    "from renom_img.api.utility.evaluate import Evaluator\n",
    "\n",
    "from renom.cuda import set_cuda_active\n",
    "from PIL import Image\n",
    "%matplotlib inline"
   ]
  },
  {
   "cell_type": "code",
   "execution_count": 2,
   "metadata": {},
   "outputs": [],
   "source": [
    "set_cuda_active(True)"
   ]
  },
  {
   "cell_type": "code",
   "execution_count": 3,
   "metadata": {},
   "outputs": [],
   "source": [
    "\n",
    "# if not os.path.exists(\"VOCdevkit\"):\n",
    "#     !wget http://host.robots.ox.ac.uk/pascal/VOC/voc2012/VOCtrainval_11-May-2012.tar\n",
    "#     !tar -xvf VOCtrainval_11-May-2012.tar"
   ]
  },
  {
   "cell_type": "code",
   "execution_count": 4,
   "metadata": {},
   "outputs": [],
   "source": [
    "class_map = ['background', 'aeroplane', 'bicycle', 'bird', 'boat', 'bottle', \n",
    "             'bus', 'car', 'cat', 'chair', 'cow', 'diningtable',\n",
    "             'dog', 'horse', 'motorbike', 'person', 'potted plant', \n",
    "             'sheep', 'sofa', 'train', 'tv/monitor']"
   ]
  },
  {
   "cell_type": "code",
   "execution_count": 5,
   "metadata": {},
   "outputs": [],
   "source": [
    "prefix_path = '/media/hdd2/jun/dataset/VOCdevkit/VOC2012/'"
   ]
  },
  {
   "cell_type": "code",
   "execution_count": 6,
   "metadata": {
    "scrolled": true
   },
   "outputs": [
    {
     "name": "stdout",
     "output_type": "stream",
     "text": [
      "Dataset size\n",
      "  Train:1464\n",
      "  Valid:1449\n",
      "\n"
     ]
    }
   ],
   "source": [
    "train_image_path_list = []\n",
    "train_annotation_path_list = []\n",
    "\n",
    "with open(os.path.join(prefix_path, 'ImageSets', 'Segmentation', 'train.txt')) as f:\n",
    "    txt = f.readlines()\n",
    "    txt = [line.split('\\n')[0] for line in txt]\n",
    "    for i in range(len(txt)):\n",
    "        train_image_path_list.append(os.path.join(prefix_path, 'JPEGImages', txt[i]+'.jpg'))\n",
    "        train_annotation_path_list.append(os.path.join(prefix_path, 'SegmentationClass', txt[i]+'.png'))\n",
    "                                          \n",
    "valid_image_path_list = []\n",
    "valid_annotation_path_list = []\n",
    "\n",
    "with open(os.path.join(prefix_path, 'ImageSets', 'Segmentation', 'val.txt')) as f:\n",
    "    txt = f.readlines()\n",
    "    txt = [line.split('\\n')[0] for line in txt]\n",
    "    for i in range(len(txt)):\n",
    "        valid_image_path_list.append(os.path.join(prefix_path, 'JPEGImages', txt[i]+'.jpg'))\n",
    "        valid_annotation_path_list.append(os.path.join(prefix_path, 'SegmentationClass', txt[i]+'.png'))\n",
    "        \n",
    "print(\"Dataset size\")\n",
    "print(\"  Train:{}\".format(len(train_image_path_list)))\n",
    "print(\"  Valid:{}\\n\".format(len(valid_image_path_list)))\n",
    "        "
   ]
  },
  {
   "cell_type": "code",
   "execution_count": 7,
   "metadata": {},
   "outputs": [],
   "source": [
    "# annot = np.array(Image.open(train_annotation_path_list[0]))\n",
    "# draw_segment(train_image_path_list[0], annot, show_background=True)"
   ]
  },
  {
   "cell_type": "code",
   "execution_count": 8,
   "metadata": {},
   "outputs": [],
   "source": [
    "fcn8s = FCN8s(np.arange(len(class_map)), imsize=(224, 224), load_pretrained_weight=True, train_whole_network=True)"
   ]
  },
  {
   "cell_type": "code",
   "execution_count": 9,
   "metadata": {},
   "outputs": [],
   "source": [
    "def callback_end_epoch(epoch, model, avg_train_loss_list, avg_valid_loss_list):\n",
    "    model.save('/media/hdd2/jun/checkpoints/fcn/model2_{}.hdf5'.format(epoch))"
   ]
  },
  {
   "cell_type": "code",
   "execution_count": null,
   "metadata": {},
   "outputs": [],
   "source": []
  },
  {
   "cell_type": "code",
   "execution_count": 10,
   "metadata": {},
   "outputs": [],
   "source": [
    "augmentation = Augmentation([\n",
    "                Flip(),\n",
    "                WhiteNoise(),\n",
    "                ContrastNorm([0.5, 1.0])\n",
    "            ])"
   ]
  },
  {
   "cell_type": "code",
   "execution_count": null,
   "metadata": {},
   "outputs": [],
   "source": [
    "fcn8s.fit(train_img_path_list=train_image_path_list, train_annotation_list=train_annotation_path_list,\n",
    "          valid_img_path_list=valid_image_path_list, valid_annotation_list=valid_annotation_path_list, \n",
    "          batch_size=16, callback_end_epoch=callback_end_epoch, augmentation=augmentation, epoch=200)"
   ]
  },
  {
   "cell_type": "code",
   "execution_count": 11,
   "metadata": {},
   "outputs": [],
   "source": [
    "fcn8s.load('/media/hdd2/jun/checkpoints/fcn/model2_65.hdf5')"
   ]
  },
  {
   "cell_type": "code",
   "execution_count": 12,
   "metadata": {},
   "outputs": [
    {
     "name": "stderr",
     "output_type": "stream",
     "text": [
      "100%|██████████| 46/46 [00:38<00:00,  1.42it/s]"
     ]
    }
   ],
   "source": [
    "results = fcn8s.predict(valid_image_path_list)"
   ]
  },
  {
   "cell_type": "code",
   "execution_count": 15,
   "metadata": {},
   "outputs": [],
   "source": [
    "targets = []\n",
    "for annot_path in valid_annotation_path_list:\n",
    "    annot = np.array(Image.open(annot_path).resize((224, 224)))\n",
    "    new_annot = np.zeros((len(class_map), annot.shape[0], annot.shape[1]))\n",
    "    for i in range(annot.shape[0]):\n",
    "        for j in range(annot.shape[1]):\n",
    "            if int(annot[i, j]) >= len(class_map):\n",
    "                new_annot[0, i, j] = 1\n",
    "            else:\n",
    "                new_annot[int(annot[i, j]), i, j] = 1\n",
    "    targets.append(new_annot)\n",
    "                \n",
    "            "
   ]
  },
  {
   "cell_type": "code",
   "execution_count": 16,
   "metadata": {},
   "outputs": [
    {
     "ename": "NameError",
     "evalue": "name 'EvaluatorSegmentation' is not defined",
     "output_type": "error",
     "traceback": [
      "\u001b[0;31m---------------------------------------------------------------------------\u001b[0m",
      "\u001b[0;31mNameError\u001b[0m                                 Traceback (most recent call last)",
      "\u001b[0;32m<ipython-input-16-c901fcb925a3>\u001b[0m in \u001b[0;36m<module>\u001b[0;34m()\u001b[0m\n\u001b[0;32m----> 1\u001b[0;31m \u001b[0mevaluator\u001b[0m \u001b[0;34m=\u001b[0m \u001b[0mEvaluatorSegmentation\u001b[0m\u001b[0;34m(\u001b[0m\u001b[0mresults\u001b[0m\u001b[0;34m,\u001b[0m \u001b[0mtargets\u001b[0m\u001b[0;34m)\u001b[0m\u001b[0;34m\u001b[0m\u001b[0m\n\u001b[0m",
      "\u001b[0;31mNameError\u001b[0m: name 'EvaluatorSegmentation' is not defined"
     ]
    }
   ],
   "source": [
    "evaluator = EvaluatorSegmentation(results, targets)"
   ]
  },
  {
   "cell_type": "code",
   "execution_count": null,
   "metadata": {},
   "outputs": [],
   "source": []
  }
 ],
 "metadata": {
  "kernelspec": {
   "display_name": "Python 3",
   "language": "python",
   "name": "python3"
  },
  "language_info": {
   "codemirror_mode": {
    "name": "ipython",
    "version": 3
   },
   "file_extension": ".py",
   "mimetype": "text/x-python",
   "name": "python",
   "nbconvert_exporter": "python",
   "pygments_lexer": "ipython3",
   "version": "3.6.3"
  }
 },
 "nbformat": 4,
 "nbformat_minor": 2
}
