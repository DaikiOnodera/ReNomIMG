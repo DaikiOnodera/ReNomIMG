{
 "cells": [
  {
   "cell_type": "markdown",
   "metadata": {},
   "source": [
    "## Yolo2"
   ]
  },
  {
   "cell_type": "code",
   "execution_count": 17,
   "metadata": {},
   "outputs": [
    {
     "name": "stdout",
     "output_type": "stream",
     "text": [
      "[0 1 2 3]\n"
     ]
    },
    {
     "data": {
      "text/plain": [
       "Reshape([[10., 10.],\n",
       "         [10., 10.]], dtype=float32)"
      ]
     },
     "execution_count": 17,
     "metadata": {},
     "output_type": "execute_result"
    }
   ],
   "source": [
    "import os\n",
    "import numpy as np\n",
    "import tqdm\n",
    "import renom as rm\n",
    "from PIL import Image, ImageDraw\n",
    "import matplotlib.pyplot as plt\n",
    "from renom.cuda import set_cuda_active, release_mem_pool\n",
    "from darknet19 import Darknet19Detection, Darknet19Classification\n",
    "from utils import Yolov2Distributor, load_bbox, create_anchor\n",
    "import h5py\n",
    "\n",
    "os.environ['CUDA_VISIBLE_DEVICES'] = '0'\n",
    "set_cuda_active(True)"
   ]
  },
  {
   "cell_type": "code",
   "execution_count": null,
   "metadata": {},
   "outputs": [],
   "source": [
    "img_list, annotation_list = load_bbox(\"\")\n",
    "\n",
    "if not os.path.exists(\"anchor.txt\"):\n",
    "    box_list = []\n",
    "    size_list = []\n",
    "    for anot in annotation_list:\n",
    "        for a in anot:\n",
    "            box_list.append(a['bndbox'])\n",
    "            size_list.append(a['size'])\n",
    "    anchor = create_anchor(box_list, size_list, base_size=base_size)\n",
    "    with open(\"anchor.txt\", \"w\") as writer:\n",
    "        for a in anchor:\n",
    "            writer.write(\"{},{}\\n\".format(a[2], a[3]))\n",
    "else:\n",
    "    anchor = []\n",
    "    with open(\"anchor.txt\", \"r\") as reader:\n",
    "        for r in reader.readlines():\n",
    "            anchor.append([float(a) for a in r.strip().split(\",\")])"
   ]
  },
  {
   "cell_type": "code",
   "execution_count": null,
   "metadata": {},
   "outputs": [],
   "source": [
    "def draw_box(draw, bbox, class_name=None, transform=True):\n",
    "    font_path = '/usr/share/fonts/truetype/ubuntu-font-family/Ubuntu-R.ttf'\n",
    "    if transform:\n",
    "        cx, cy, cw, ch = bbox\n",
    "        cx1 = cx - cw/2.\n",
    "        cy1 = cy - ch/2.\n",
    "        cx2 = cx + cw/2.\n",
    "        cy2 = cy + ch/2.\n",
    "    else:\n",
    "        cx1, cy1, cx2, cy2 = bbox\n",
    "        cw = cx2 - cx1\n",
    "        ch = cy2 - cy1\n",
    "        cx = cx1 + cw/2.\n",
    "        cy = cy1 + ch/2.\n",
    "\n",
    "    if class_name is None:\n",
    "        for j in range(-2, 3):\n",
    "            draw.rectangle([cx1 + j,\n",
    "                            cy1 + j,\n",
    "                            cx2 + j,\n",
    "                            cy2 + j], outline=(0, 255, 0))\n",
    "        return\n",
    "    else:\n",
    "        for j in range(-2, 3):\n",
    "            draw.rectangle([cx1 + j,\n",
    "                            cy1 + j,\n",
    "                            cx2 + j,\n",
    "                            cy2 + j], outline=(255, 0, 0))\n",
    "    draw.font = ImageFont.truetype(font_path, 25)\n",
    "    text_x = cx - cw/2\n",
    "    text_y = cy - ch/2\n",
    "    text_w, text_h = draw.font.getsize(class_name)\n",
    "    draw.rectangle([text_x, text_y, text_x+text_w, text_y+text_h], outline=(255, 0, 0), fill=(255, 0, 0))\n",
    "    draw.text((text_x, text_y), class_name, (0, 0, 0))\n"
   ]
  },
  {
   "cell_type": "code",
   "execution_count": null,
   "metadata": {},
   "outputs": [],
   "source": [
    "dist = Yolov2Distributor(img_list, annotation_list)\n",
    "\n",
    "for x, y in dist.detection_batch(1, img_size=(224, 224)):\n",
    "    img = Image.fromarray(x[0].transpose(1, 2, 0).astype(np.uint8))\n",
    "    draw = ImageDraw.Draw(img)\n",
    "    keep = np.where(y[0, 0, :, :] > 0)\n",
    "    box = []\n",
    "    for k in range(len(keep[0])):\n",
    "        lb = y[0, :, keep[0][k], keep[1][k]]\n",
    "        tx = lb[1]\n",
    "        ty = lb[2]\n",
    "        tw = lb[3]\n",
    "        th = lb[4]\n",
    "        draw_box(draw, (tx, ty, tw, th))\n",
    "    plt.imshow(img)\n",
    "    plt.show()\n",
    "    break"
   ]
  },
  {
   "cell_type": "code",
   "execution_count": null,
   "metadata": {
    "scrolled": false
   },
   "outputs": [],
   "source": [
    "# classifier = Darknet19Classification()\n",
    "# classifier.load(\"result/model_006.h5\")\n",
    "model = Darknet19Detection()\n",
    "model.save(\"yolov2_2.h5\")\n",
    "# model._base = classifier._base\n",
    "\n",
    "opt = rm.Sgd(0.0001, 0.9)\n",
    "lr_list = [1e-6]*7 + [1e-3]*61 + [1e-4]*40\n",
    "batch = 16\n",
    "batch_loop = int(np.ceil(len(dist)//batch))"
   ]
  },
  {
   "cell_type": "code",
   "execution_count": null,
   "metadata": {},
   "outputs": [],
   "source": [
    "# np.array([320, 320], dtype=np.int)\n",
    "# np.array([352, 352], dtype=np.int)\n",
    "# np.array([384, 384], dtype=np.int)\n",
    "# np.array([416, 416], dtype=np.int)\n",
    "# np.array([448, 448], dtype=np.int)\n",
    "# np.array([480, 480], dtype=np.int)\n",
    "# np.array([512, 512], dtype=np.int)\n",
    "# np.array([544, 544], dtype=np.int)\n",
    "# np.array([576, 576], dtype=np.int)"
   ]
  },
  {
   "cell_type": "code",
   "execution_count": null,
   "metadata": {
    "scrolled": false
   },
   "outputs": [],
   "source": [
    "for size in [320, 352, 384, 416, 448]:\n",
    "    release_mem_pool()\n",
    "    for e in range(0, 101):\n",
    "        img_size = (size, size)\n",
    "        scale_w = size/base_size[0]\n",
    "        scale_h = size/base_size[1]\n",
    "        display_loss = 0\n",
    "        bar = tqdm.tqdm(range(batch_loop))\n",
    "        model.set_models(inference=False)\n",
    "        for i, (x, y) in enumerate(dist.detection_batch(batch, img_size=img_size)):\n",
    "            if e == 0:\n",
    "                opt._lr = 1e-8 + (1e-6 - 1e-8)/batch_loop * i\n",
    "            else:\n",
    "                opt._lr = lr_list[e]\n",
    "            with model.train():\n",
    "                z = model(x/255.*2 - 1)\n",
    "                target, mask = model.build_target(z.as_ndarray(), y,\n",
    "                        [[a[0]*scale_w, a[1]*scale_h] for a in anchor], img_size)\n",
    "                dif = (z - target)*mask\n",
    "                loss = rm.sum(dif*dif)*0.5/np.sum(y[:, 0] > 0)\n",
    "                reg_loss = loss + model.weight_decay()\n",
    "\n",
    "            reg_loss.grad().update(opt)\n",
    "            display_loss += loss.as_ndarray()[0]\n",
    "            bar.set_description(\"epoch:{:03d} loss:{:5.3f}\".format(e, loss.as_ndarray()[0]))\n",
    "            bar.update(1)\n",
    "        display_loss /= (i+1)\n",
    "        bar.set_description(\"epoch:{:03d} avg loss:{:5.3f}\".format(e, display_loss))\n",
    "        bar.update(0)\n",
    "        bar.close()\n",
    "        \n",
    "        if not (e%5 == 0 and e): continue\n",
    "        model.set_models(inference=True)\n",
    "        z = model(x/255.*2 - 1)\n",
    "        b_list, s_list = model.transform_to_original_scale(z.as_ndarray(), [[a[0]*scale_w, a[1]*scale_h] for a in anchor], img_size)\n",
    "        for i, x_img in enumerate(x):\n",
    "            img = Image.fromarray(x_img.transpose(1, 2, 0).astype(np.uint8))\n",
    "            draw = ImageDraw.Draw(img)\n",
    "            for box, score in zip(b_list[i], s_list[i]):\n",
    "                if score[0] > 0.3:\n",
    "                    # print(score[1])\n",
    "                    draw_box(draw, box)\n",
    "            plt.imshow(img)\n",
    "            plt.show()\n",
    "            if i > 2:break\n"
   ]
  },
  {
   "cell_type": "code",
   "execution_count": null,
   "metadata": {
    "scrolled": false
   },
   "outputs": [],
   "source": [
    "b_list, s_list = model.transform_to_original_scale(z.as_ndarray(), [[a[0]*scale_w, a[1]*scale_h] for a in anchor], img_size)\n",
    "for i, x_img in enumerate(x):\n",
    "    img = Image.fromarray(x_img.transpose(1, 2, 0).astype(np.uint8))\n",
    "    draw = ImageDraw.Draw(img)\n",
    "    for box, score in zip(b_list[i], s_list[i]):\n",
    "        if score[0] > 0.1:\n",
    "            print(score[1])\n",
    "            draw_box(draw, box)\n",
    "    plt.imshow(img)\n",
    "    plt.show()\n",
    "    if i > 7:break"
   ]
  },
  {
   "cell_type": "code",
   "execution_count": null,
   "metadata": {
    "scrolled": true
   },
   "outputs": [],
   "source": [
    "s_list"
   ]
  },
  {
   "cell_type": "code",
   "execution_count": null,
   "metadata": {},
   "outputs": [],
   "source": [
    "a = np.zeros((2, 2))\n",
    "b = np.arange(2).reshape(1, 2)\n",
    "print((a+b)[:, 1])"
   ]
  },
  {
   "cell_type": "code",
   "execution_count": null,
   "metadata": {},
   "outputs": [],
   "source": [
    "model.save('yolo2.h5')"
   ]
  },
  {
   "cell_type": "code",
   "execution_count": null,
   "metadata": {},
   "outputs": [],
   "source": []
  },
  {
   "cell_type": "code",
   "execution_count": null,
   "metadata": {},
   "outputs": [],
   "source": []
  }
 ],
 "metadata": {
  "kernelspec": {
   "display_name": "Python 3",
   "language": "python",
   "name": "python3"
  },
  "language_info": {
   "codemirror_mode": {
    "name": "ipython",
    "version": 3
   },
   "file_extension": ".py",
   "mimetype": "text/x-python",
   "name": "python",
   "nbconvert_exporter": "python",
   "pygments_lexer": "ipython3",
   "version": "3.5.2"
  }
 },
 "nbformat": 4,
 "nbformat_minor": 2
}
