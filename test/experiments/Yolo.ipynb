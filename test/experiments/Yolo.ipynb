{
 "cells": [
  {
   "cell_type": "code",
   "execution_count": null,
   "metadata": {},
   "outputs": [],
   "source": [
    "import os, sys\n",
    "import numpy as np\n",
    "from renom.cuda import set_cuda_active\n",
    "from renom_img.api.detection.yolo_v1 import Yolov1\n",
    "from renom_img.api.utility.load import parse_xml_detection\n",
    "from PIL import Image\n",
    "from tqdm import tqdm\n",
    "\n",
    "from renom_img.api.model.darknet import Darknet\n",
    "from renom_img.api.utility.distributor.distributor import ImageDistributor\n",
    "\n",
    "from renom_img.api.utility.augmentation.process import Shift, Rotate, Flip, WhiteNoise, ContrastNorm\n",
    "from renom_img.api.utility.augmentation.augmentation import Augmentation\n",
    "\n",
    "from renom_img.api.utility.misc.display import draw_box\n",
    "\n",
    "\n",
    "\n",
    "np.random.seed(2018)"
   ]
  },
  {
   "cell_type": "code",
   "execution_count": null,
   "metadata": {},
   "outputs": [],
   "source": [
    "set_cuda_active(True)"
   ]
  },
  {
   "cell_type": "code",
   "execution_count": null,
   "metadata": {},
   "outputs": [],
   "source": [
    "prefix_path1 = '/home/yamada/dataset/VOCdevkit/VOC2007/'\n",
    "prefix_path2 = '/home/yamada/dataset/VOCdevkit/VOC2012/'\n",
    "file_list1 = [os.path.join(prefix_path1, 'JPEGImages', path) for path in sorted(os.listdir(os.path.join(prefix_path1, 'JPEGImages')))]\n",
    "file_list2 = [os.path.join(prefix_path2, 'JPEGImages', path) for path in sorted(os.listdir(os.path.join(prefix_path2, 'JPEGImages')))]\n"
   ]
  },
  {
   "cell_type": "code",
   "execution_count": null,
   "metadata": {},
   "outputs": [],
   "source": [
    "file_list = file_list1 + file_list2"
   ]
  },
  {
   "cell_type": "code",
   "execution_count": null,
   "metadata": {},
   "outputs": [],
   "source": [
    "annot_file_list = [ o.replace('JPEGImages', 'Annotations').replace('jpg', 'xml') for o in file_list]"
   ]
  },
  {
   "cell_type": "code",
   "execution_count": null,
   "metadata": {},
   "outputs": [],
   "source": [
    "annot, class_map = parse_xml_detection(annot_file_list)"
   ]
  },
  {
   "cell_type": "code",
   "execution_count": null,
   "metadata": {},
   "outputs": [],
   "source": [
    "class_map =  sorted(class_map.keys())"
   ]
  },
  {
   "cell_type": "code",
   "execution_count": null,
   "metadata": {},
   "outputs": [],
   "source": [
    "perm = np.random.permutation(len(file_list))"
   ]
  },
  {
   "cell_type": "code",
   "execution_count": null,
   "metadata": {},
   "outputs": [],
   "source": [
    "file_list = list(np.array(file_list)[perm])\n",
    "annot = list(np.array(annot)[perm])"
   ]
  },
  {
   "cell_type": "code",
   "execution_count": null,
   "metadata": {},
   "outputs": [],
   "source": [
    "n_train = int(0.8*len(file_list))\n",
    "train_img_path_list = file_list[:n_train]\n",
    "train_annot_list = annot[:n_train]\n",
    "valid_img_path_list = file_list[n_train:]\n",
    "valid_annot_list = annot[n_train:]"
   ]
  },
  {
   "cell_type": "code",
   "execution_count": null,
   "metadata": {},
   "outputs": [],
   "source": [
    "draw_box(train_img_path_list[2], train_annot_list[2])"
   ]
  },
  {
   "cell_type": "code",
   "execution_count": null,
   "metadata": {},
   "outputs": [],
   "source": []
  },
  {
   "cell_type": "code",
   "execution_count": null,
   "metadata": {},
   "outputs": [],
   "source": [
    "yolo = Yolov1(class_map=class_map, load_pretrained_weight=True ,train_whole_network=True, imsize=(448, 448))\n",
    "\n",
    "augmentation = Augmentation([\n",
    "                Flip(),\n",
    "                Rotate(),\n",
    "                WhiteNoise(),\n",
    "                ContrastNorm([0.5, 1.0])\n",
    "            ])\n"
   ]
  },
  {
   "cell_type": "code",
   "execution_count": null,
   "metadata": {},
   "outputs": [],
   "source": [
    "def callback_end_epoch(epoch, model, avg_train_loss_list, avg_valid_loss_list):\n",
    "    model.save('/home/yamada/checkpoints/yolo/model_{}.h5'.format(epoch))"
   ]
  },
  {
   "cell_type": "code",
   "execution_count": null,
   "metadata": {},
   "outputs": [],
   "source": [
    "yolo.fit(train_img_path_list=train_img_path_list, \n",
    "         train_annotation_list=train_annot_list, valid_img_path_list=valid_img_path_list, \n",
    "         valid_annotation_list=valid_annot_list, augmentation=augmentation, batch_size=16, callback_end_epoch=callback_end_epoch)"
   ]
  },
  {
   "cell_type": "code",
   "execution_count": null,
   "metadata": {},
   "outputs": [],
   "source": []
  },
  {
   "cell_type": "code",
   "execution_count": null,
   "metadata": {},
   "outputs": [],
   "source": []
  },
  {
   "cell_type": "code",
   "execution_count": null,
   "metadata": {},
   "outputs": [],
   "source": []
  },
  {
   "cell_type": "code",
   "execution_count": null,
   "metadata": {},
   "outputs": [],
   "source": []
  },
  {
   "cell_type": "code",
   "execution_count": null,
   "metadata": {},
   "outputs": [],
   "source": []
  },
  {
   "cell_type": "code",
   "execution_count": null,
   "metadata": {},
   "outputs": [],
   "source": []
  },
  {
   "cell_type": "code",
   "execution_count": null,
   "metadata": {},
   "outputs": [],
   "source": []
  },
  {
   "cell_type": "code",
   "execution_count": null,
   "metadata": {},
   "outputs": [],
   "source": []
  },
  {
   "cell_type": "code",
   "execution_count": null,
   "metadata": {},
   "outputs": [],
   "source": []
  }
 ],
 "metadata": {
  "kernelspec": {
   "display_name": "Python 3",
   "language": "python",
   "name": "python3"
  },
  "language_info": {
   "codemirror_mode": {
    "name": "ipython",
    "version": 3
   },
   "file_extension": ".py",
   "mimetype": "text/x-python",
   "name": "python",
   "nbconvert_exporter": "python",
   "pygments_lexer": "ipython3",
   "version": "3.5.2"
  }
 },
 "nbformat": 4,
 "nbformat_minor": 2
}
